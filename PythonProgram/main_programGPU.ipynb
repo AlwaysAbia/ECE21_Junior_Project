{
 "cells": [
  {
   "cell_type": "markdown",
   "metadata": {},
   "source": [
    "*Imports:*"
   ]
  },
  {
   "cell_type": "code",
   "metadata": {
    "ExecuteTime": {
     "end_time": "2024-09-24T17:47:09.887845Z",
     "start_time": "2024-09-24T17:47:07.245163Z"
    }
   },
   "source": [
    "import serial\n",
    "import cv2\n",
    "import numpy as np\n",
    "import time\n",
    "from ultralytics import YOLO\n",
    "import torch\n",
    "from typing import Tuple\n"
   ],
   "outputs": [],
   "execution_count": 1
  },
  {
   "cell_type": "markdown",
   "metadata": {},
   "source": [
    "**Main Code Definitions:**"
   ]
  },
  {
   "cell_type": "code",
   "metadata": {
    "ExecuteTime": {
     "end_time": "2024-09-24T17:47:22.000299Z",
     "start_time": "2024-09-24T17:47:21.979578Z"
    }
   },
   "source": [
    "def clean_and_parse_data(raw_data: bytes) -> dict:\n",
    "    # Decode the bytes to string, ignoring errors\n",
    "    decoded_data = raw_data.decode('ascii', errors='ignore').strip()\n",
    "    split_decoded_data = decoded_data.split(',')\n",
    "\n",
    "    data_dict = {}\n",
    "    for data_point in split_decoded_data:\n",
    "        curr = data_point.split('=')\n",
    "        if len(curr) == 2:  # Ensure that both key and value are present\n",
    "            data_dict[curr[0].strip()] = curr[1].strip()  # Strip whitespace from keys and values\n",
    "    return clean_uart_data(data_dict)\n",
    "\n",
    "def clean_uart_data(data_dict: dict) -> dict:\n",
    "    cleaned_dict = {}\n",
    "    for key, value in data_dict.items():\n",
    "        # Remove null characters from key and value\n",
    "        clean_key = key.replace('\\x00', '').strip()\n",
    "        clean_value = value.replace('\\x00', '').strip()\n",
    "        \n",
    "        # Add the cleaned key-value pair to the new dictionary if key is not empty\n",
    "        if clean_key:\n",
    "            cleaned_dict[clean_key] = clean_value\n",
    "            \n",
    "    return cleaned_dict\n",
    "\n",
    "def find_center_of_frame(frame):\n",
    "    height, width = frame.shape[:2]\n",
    "    return width // 2, height // 2\n",
    "\n",
    "def calculate_box_area(x1, y1, x2, y2):\n",
    "    return (x2 - x1) * (y2 - y1)\n",
    "\n",
    "def find_box_center(x1, y1, x2, y2):\n",
    "    return int((x1 + x2) / 2), int((y1 + y2) / 2)"
   ],
   "outputs": [],
   "execution_count": 2
  },
  {
   "cell_type": "markdown",
   "metadata": {},
   "source": [
    "**Main Code:**"
   ]
  },
  {
   "cell_type": "code",
   "metadata": {
    "jupyter": {
     "is_executing": true
    },
    "ExecuteTime": {
     "start_time": "2024-09-24T17:57:44.538397Z"
    }
   },
   "source": [
    "device = torch.device('cuda' if torch.cuda.is_available() else 'cpu')\n",
    "print(f\"Using device: {device}\")\n",
    "\n",
    "ser = serial.Serial(\n",
    "    port='COM3',  \n",
    "    baudrate=9600,\n",
    "    parity=serial.PARITY_NONE,\n",
    "    stopbits=serial.STOPBITS_ONE,\n",
    "    bytesize=serial.EIGHTBITS,\n",
    "    timeout=0\n",
    ")\n",
    "\n",
    "# Define the window size for the moving average & other parameters\n",
    "WINDOW_SIZE = 1\n",
    "x_values = np.zeros(WINDOW_SIZE)\n",
    "y_values = np.zeros(WINDOW_SIZE)\n",
    "index = 0\n",
    "\n",
    "# Small waiting time to wait for everything in the STM to init\n",
    "time.sleep(3)\n",
    "\n",
    "# Load the model and move it to GPU\n",
    "model = YOLO('TennisBestColored.pt', task='detect').to(device)\n",
    "cap = cv2.VideoCapture(1)\n",
    "\n",
    "cap.set(cv2.CAP_PROP_FPS, 30)\n",
    "cap.set(cv2.CAP_PROP_FRAME_HEIGHT, 600)\n",
    "actual_fps = cap.get(cv2.CAP_PROP_FPS)\n",
    "print(f\"Camera framerate set to: {actual_fps}\")\n",
    "\n",
    "ret, frame = cap.read()\n",
    "set_point_x, set_point_y = find_center_of_frame(frame)\n",
    "\n",
    "while True:\n",
    "    ret, frame = cap.read()\n",
    "    if not ret:\n",
    "        break  # Exit loop if frame could not be read\n",
    "\n",
    "    # Convert frame to RGB (YOLO expects RGB input)\n",
    "    frame_rgb = cv2.cvtColor(frame, cv2.COLOR_BGR2RGB)\n",
    "\n",
    "    # Run inference on GPU\n",
    "    results = model(frame_rgb, device=device)\n",
    "\n",
    "    largest_area = 0\n",
    "    largest_box_center = None\n",
    "\n",
    "    for result in results:\n",
    "        boxes = result.boxes\n",
    "        for box in boxes:\n",
    "            x1, y1, x2, y2 = box.xyxy[0].cpu().numpy()\n",
    "            conf = box.conf[0].cpu().numpy()\n",
    "            cls = box.cls[0].cpu().numpy()\n",
    "\n",
    "            if conf < 0.5:\n",
    "                continue\n",
    "            \n",
    "            area = calculate_box_area(x1, y1, x2, y2)\n",
    "            \n",
    "            if area < 100:\n",
    "                continue\n",
    "            \n",
    "            if area > largest_area:\n",
    "                largest_area = area\n",
    "                largest_box_center = find_box_center(x1, y1, x2, y2)\n",
    "            \n",
    "            label = f\"{model.names[int(cls)]} {conf:.2f}\"\n",
    "            color = (0, 255, 0)  # Green color for bounding box\n",
    "            cv2.rectangle(frame, (int(x1), int(y1)), (int(x2), int(y2)), color, 2)\n",
    "            cv2.putText(frame, label, (int(x1), int(y1) - 10), cv2.FONT_HERSHEY_SIMPLEX, 0.5, color, 2)\n",
    "\n",
    "    if largest_box_center:\n",
    "        cv2.circle(frame, largest_box_center, 5, (0, 0, 255), -1)  # Red dot\n",
    "        cv2.putText(frame, f\"Center: {largest_box_center}\", (10, 30), cv2.FONT_HERSHEY_SIMPLEX, 0.7, (0, 0, 255), 2)\n",
    "        \n",
    "    cv2.circle(frame, (set_point_x, set_point_y), 5, (255, 0, 0), -1)  # Blue dot\n",
    "    cv2.putText(frame, f\"Set Point: ({set_point_x}, {set_point_y})\", (10, 60), cv2.FONT_HERSHEY_SIMPLEX, 0.7, (255, 0, 0), 2)\n",
    "\n",
    "    if largest_box_center:\n",
    "        # Update the moving average arrays\n",
    "        x_values[index] = largest_box_center[0]\n",
    "        y_values[index] = largest_box_center[1]\n",
    "        \n",
    "        # Calculate the moving averages\n",
    "        smoothed_x = int(np.mean(x_values))\n",
    "        smoothed_y = int(np.mean(y_values))\n",
    "        \n",
    "        # Update the index for circular buffer\n",
    "        index = (index + 1) % WINDOW_SIZE\n",
    "        \n",
    "        diff_x = smoothed_x - set_point_x\n",
    "        diff_y = smoothed_y - set_point_y\n",
    "        cv2.putText(frame, f\"Difference: ({diff_x}, {diff_y})\", (10, 90), cv2.FONT_HERSHEY_SIMPLEX, 0.7, (255, 255, 0), 2)\n",
    "        str_to_send = f\"a{smoothed_x:03d}{smoothed_y:03d}\"\n",
    "    else:\n",
    "        str_to_send = \"a400300\"\n",
    "\n",
    "    ser.write(str_to_send.encode())\n",
    "    ser.flush()\n",
    "    print(str_to_send)\n",
    "\n",
    "    raw_data = ser.readline()\n",
    "    parsed_data = clean_and_parse_data(raw_data)\n",
    "    print(parsed_data)\n",
    "\n",
    "    # Draw the dictionary values on the frame\n",
    "    y_offset = 0\n",
    "    for key, value in parsed_data.items():\n",
    "        text = f\"{key}: {value}\"\n",
    "        if key == \"Base Proj Point\": y_offset = 120\n",
    "        elif key == \"Tilt Proj Point\": y_offset = 150\n",
    "        elif key == \"Base PID Out\": y_offset = 180\n",
    "        elif key == \"Tilt PID Out\": y_offset = 210\n",
    "        cv2.putText(frame, text, (10, y_offset), cv2.FONT_HERSHEY_SIMPLEX, 0.7, (0, 255, 255), 2)\n",
    "    text = \"Sent: \" + str_to_send\n",
    "    cv2.putText(frame, text, (10, 240), cv2.FONT_HERSHEY_SIMPLEX, 0.7, (255, 0, 255), 2)\n",
    "\n",
    "    cv2.imshow(\"YOLOv8 Object Detection\", frame)\n",
    "\n",
    "    if cv2.waitKey(1) & 0xFF == ord('q'):\n",
    "        break\n",
    "\n",
    "cap.release()\n",
    "cv2.destroyAllWindows()\n",
    "ser.close()"
   ],
   "outputs": [
    {
     "name": "stdout",
     "output_type": "stream",
     "text": [
      "Using device: cuda\n",
      "Camera framerate set to: 30.0\n",
      "\n",
      "0: 480x640 (no detections), 10.0ms\n",
      "Speed: 0.0ms preprocess, 10.0ms inference, 0.0ms postprocess per image at shape (1, 3, 480, 640)\n"
     ]
    }
   ],
   "execution_count": null
  },
  {
   "cell_type": "code",
   "metadata": {
    "ExecuteTime": {
     "end_time": "2024-09-24T16:25:32.105704Z",
     "start_time": "2024-09-24T16:25:32.085303Z"
    }
   },
   "source": [
    "ser.close()"
   ],
   "outputs": [],
   "execution_count": 14
  },
  {
   "metadata": {
    "ExecuteTime": {
     "end_time": "2024-09-24T16:26:03.041812Z",
     "start_time": "2024-09-24T16:26:02.567559Z"
    }
   },
   "cell_type": "code",
   "source": [
    "cap.release()\n",
    "cv2.destroyAllWindows()"
   ],
   "outputs": [],
   "execution_count": 15
  },
  {
   "cell_type": "code",
   "execution_count": 33,
   "metadata": {},
   "outputs": [
    {
     "name": "stdout",
     "output_type": "stream",
     "text": [
      "Ultralytics YOLOv8.2.80  Python-3.11.2 torch-2.3.0+cpu CPU (11th Gen Intel Core(TM) i3-1115G4 3.00GHz)\n",
      "Model summary (fused): 168 layers, 3,005,843 parameters, 0 gradients, 8.1 GFLOPs\n",
      "\n",
      "\u001B[34m\u001B[1mPyTorch:\u001B[0m starting from 'BestTennis.pt' with input shape (1, 3, 640, 640) BCHW and output shape(s) (1, 5, 8400) (6.0 MB)\n",
      "\u001B[31m\u001B[1mrequirements:\u001B[0m Ultralytics requirement ['onnxslim>=0.1.31'] not found, attempting AutoUpdate...\n",
      "Collecting onnxslim>=0.1.31\n",
      "  Downloading onnxslim-0.1.34-py3-none-any.whl.metadata (2.7 kB)\n",
      "Requirement already satisfied: onnx in c:\\users\\sandr\\appdata\\local\\programs\\python\\python311\\lib\\site-packages (from onnxslim>=0.1.31) (1.16.1)\n",
      "Requirement already satisfied: sympy in c:\\users\\sandr\\appdata\\local\\programs\\python\\python311\\lib\\site-packages (from onnxslim>=0.1.31) (1.13.2)\n",
      "Requirement already satisfied: packaging in c:\\users\\sandr\\appdata\\local\\programs\\python\\python311\\lib\\site-packages (from onnxslim>=0.1.31) (23.2)\n",
      "Requirement already satisfied: numpy>=1.20 in c:\\users\\sandr\\appdata\\local\\programs\\python\\python311\\lib\\site-packages (from onnx->onnxslim>=0.1.31) (1.24.2)\n",
      "Requirement already satisfied: protobuf>=3.20.2 in c:\\users\\sandr\\appdata\\local\\programs\\python\\python311\\lib\\site-packages (from onnx->onnxslim>=0.1.31) (5.28.1)\n",
      "Requirement already satisfied: mpmath<1.4,>=1.1.0 in c:\\users\\sandr\\appdata\\local\\programs\\python\\python311\\lib\\site-packages (from sympy->onnxslim>=0.1.31) (1.3.0)\n",
      "Downloading onnxslim-0.1.34-py3-none-any.whl (140 kB)\n",
      "Installing collected packages: onnxslim\n",
      "Successfully installed onnxslim-0.1.34\n",
      "\n",
      "\u001B[31m\u001B[1mrequirements:\u001B[0m AutoUpdate success  3.4s, installed 1 package: ['onnxslim>=0.1.31']\n",
      "\u001B[31m\u001B[1mrequirements:\u001B[0m  \u001B[1mRestart runtime or rerun command for updates to take effect\u001B[0m\n",
      "\n",
      "\n",
      "\u001B[34m\u001B[1mONNX:\u001B[0m starting export with onnx 1.16.1 opset 12...\n",
      "\u001B[34m\u001B[1mONNX:\u001B[0m slimming with onnxslim 0.1.34...\n",
      "\u001B[34m\u001B[1mONNX:\u001B[0m export success  6.5s, saved as 'BestTennis.onnx' (11.7 MB)\n",
      "\n",
      "Export complete (10.4s)\n",
      "Results saved to \u001B[1mC:\\Users\\sandr\\OneDrive\\Desktop\\Junior Project\\PythonProgram\u001B[0m\n",
      "Predict:         yolo predict task=detect model=BestTennis.onnx imgsz=640  \n",
      "Validate:        yolo val task=detect model=BestTennis.onnx imgsz=640 data=/content/Tennis-Ball-Obj-Det-1/data.yaml  \n",
      "Visualize:       https://netron.app\n",
      "Model exported successfully to BestTennis.onnx\n"
     ]
    }
   ],
   "source": [
    "import torch\n",
    "from ultralytics import YOLO\n",
    "import os\n",
    "\n",
    "def export_yolo_to_onnx(pt_file, onnx_file):\n",
    "    # Load the model\n",
    "    model = YOLO(pt_file)\n",
    "\n",
    "    # Export the model\n",
    "    try:\n",
    "        model.export(format=\"onnx\", opset=12, simplify=True)\n",
    "        print(f\"Model exported successfully to {onnx_file}\")\n",
    "    except Exception as e:\n",
    "        print(f\"Error exporting model: {str(e)}\")\n",
    "\n",
    "# Specify the input .pt file and output .onnx file\n",
    "pt_file = \"BestTennis.pt\"\n",
    "onnx_file = \"BestTennis.onnx\"\n",
    "\n",
    "# Call the function\n",
    "export_yolo_to_onnx(pt_file, onnx_file)"
   ]
  },
  {
   "metadata": {
    "ExecuteTime": {
     "end_time": "2024-09-24T14:58:52.524618Z",
     "start_time": "2024-09-24T14:58:52.497523Z"
    }
   },
   "cell_type": "code",
   "source": [
    "import serial.tools.list_ports\n",
    "\n",
    "def list_serial_ports():\n",
    "    # Get a list of all available serial ports\n",
    "    ports = serial.tools.list_ports.comports()\n",
    "\n",
    "    if not ports:\n",
    "        print(\"No serial ports found.\")\n",
    "    else:\n",
    "        print(\"Available serial ports:\")\n",
    "        for port in ports:\n",
    "            print(f\"- {port.device}: {port.description}\")\n",
    "\n",
    "# Call the function to list serial ports\n",
    "list_serial_ports()"
   ],
   "outputs": [
    {
     "name": "stdout",
     "output_type": "stream",
     "text": [
      "Available serial ports:\n",
      "- COM3: Silicon Labs CP210x USB to UART Bridge (COM3)\n"
     ]
    }
   ],
   "execution_count": 8
  }
 ],
 "metadata": {
  "kernelspec": {
   "display_name": "Python 3",
   "language": "python",
   "name": "python3"
  },
  "language_info": {
   "codemirror_mode": {
    "name": "ipython",
    "version": 3
   },
   "file_extension": ".py",
   "mimetype": "text/x-python",
   "name": "python",
   "nbconvert_exporter": "python",
   "pygments_lexer": "ipython3",
   "version": "3.11.2"
  }
 },
 "nbformat": 4,
 "nbformat_minor": 2
}
